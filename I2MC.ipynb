{
 "cells": [
  {
   "cell_type": "markdown",
   "source": [
    "# I2MC Example\n",
    "-----"
   ],
   "metadata": {
    "collapsed": false,
    "pycharm": {
     "name": "#%% md\n"
    }
   }
  },
  {
   "cell_type": "code",
   "execution_count": 1,
   "outputs": [],
   "source": [
    "import os\n",
    "import numpy as np\n",
    "import pandas as pd\n",
    "import internal_helpers.I2MC_funcs as I2MC_funcs"
   ],
   "metadata": {
    "collapsed": false,
    "pycharm": {
     "name": "#%%\n"
    }
   }
  },
  {
   "cell_type": "markdown",
   "source": [
    "## Options"
   ],
   "metadata": {
    "collapsed": false,
    "pycharm": {
     "name": "#%% md\n"
    }
   }
  },
  {
   "cell_type": "code",
   "execution_count": 2,
   "outputs": [],
   "source": [
    "logging = True"
   ],
   "metadata": {
    "collapsed": false,
    "pycharm": {
     "name": "#%%\n"
    }
   }
  },
  {
   "cell_type": "code",
   "execution_count": 3,
   "outputs": [],
   "source": [
    "opt = dict()\n",
    "# General variables for eye-tracking data\n",
    "# maximum value of horizontal resolution in pixels\n",
    "opt['xres'] = 1920.0\n",
    "opt['yres'] = 1080.0  # maximum value of vertical resolution in pixels\n",
    "# missing value for horizontal position in eye-tracking data (example data uses -xres). used throughout\n",
    "# internal_helpers as signal for data loss\n",
    "opt['missingx'] = -opt['xres']\n",
    "# missing value for vertical position in eye-tracking data (example data uses -yres). used throughout\n",
    "# internal_helpers as signal for data loss\n",
    "opt['missingy'] = -opt['yres']\n",
    "# sampling frequency of data (check that this value matches with values actually obtained from measurement!)\n",
    "opt['freq'] = 300.0\n",
    "\n",
    "# Variables for the calculation of visual angle\n",
    "# These values are used to calculate noise measures (RMS and BCEA) of\n",
    "# fixations. The may be left as is, but don't use the noise measures then.\n",
    "# If either or both are empty, the noise measures are provided in pixels\n",
    "# instead of degrees.\n",
    "opt['scrSz'] = [50.9174, 28.6411]  # screen size in cm\n",
    "opt['disttoscreen'] = 65.0  # distance to screen in cm."
   ],
   "metadata": {
    "collapsed": false,
    "pycharm": {
     "name": "#%%\n"
    }
   }
  },
  {
   "cell_type": "markdown",
   "source": [
    "### Optional Options"
   ],
   "metadata": {
    "collapsed": false,
    "pycharm": {
     "name": "#%% md\n"
    }
   }
  },
  {
   "cell_type": "code",
   "execution_count": 4,
   "outputs": [],
   "source": [
    "# STEFFEN INTERPOLATION\n",
    "# max duration (s) of missing values for interpolation to occur\n",
    "opt['windowtimeInterp'] = 0.1\n",
    "# amount of data (number of samples) at edges needed for interpolation\n",
    "opt['edgeSampInterp'] = 2\n",
    "# maximum displacement during missing for interpolation to be possible\n",
    "opt['maxdisp'] = opt['xres'] * 0.2 * np.sqrt(2)\n",
    "\n",
    "# # K-MEANS CLUSTERING\n",
    "# time window (s) over which to calculate 2-means clustering (choose value so that max. 1 saccade can occur)\n",
    "opt['windowtime'] = 0.2\n",
    "# time window shift (s) for each iteration. Use zero for sample by sample processing\n",
    "opt['steptime'] = 0.02\n",
    "# maximum number of errors allowed in k-means clustering procedure before proceeding to next file\n",
    "opt['maxerrors'] = 100\n",
    "opt['downsamples'] = [2.0, 5.0, 10.0]\n",
    "# use chebychev filter when down sampling? 1: yes, 0: no. requires signal processing toolbox. is what matlab's\n",
    "# down sampling internal_helpers do, but could cause trouble (ringing) with the hard edges in eye-movement data\n",
    "opt['downsampFilter'] = 0\n",
    "\n",
    "# # FIXATION DETERMINATION\n",
    "# number of standard deviations above mean k-means weights will be used as fixation cutoff\n",
    "opt['cutoffstd'] = 2.0\n",
    "# number of MAD away from median fixation duration. Will be used to walk forward at fixation starts and backward at\n",
    "# fixation ends to refine their placement and stop algorithm from eating into saccades\n",
    "opt['onoffsetThresh'] = 3.0\n",
    "# maximum Euclidean distance in pixels between fixations for merging\n",
    "opt['maxMergeDist'] = 30.0\n",
    "# maximum time in ms between fixations for merging\n",
    "opt['maxMergeTime'] = 30.0\n",
    "# minimum fixation duration after merging, fixations with shorter duration are removed from output\n",
    "opt['minFixDur'] = 40.0"
   ],
   "metadata": {
    "collapsed": false,
    "pycharm": {
     "name": "#%%\n"
    }
   }
  },
  {
   "cell_type": "markdown",
   "source": [
    "## Folders"
   ],
   "metadata": {
    "collapsed": false
   }
  },
  {
   "cell_type": "code",
   "execution_count": 5,
   "outputs": [],
   "source": [
    "folders = dict()\n",
    "# folder in which data is stored (each folder in folders.data is considered 1 subject)\n",
    "folders['data'] = './example data'\n",
    "# folder for output (will use structure in folders.data for saving output)\n",
    "folders['output'] = './output'\n",
    "\n",
    "# Check if output directory exists, if not create it\n",
    "if not os.path.isdir(folders['output']):\n",
    "    os.mkdir(folders['output'])\n",
    "fold = list(os.walk(folders['data']))\n",
    "all_folders = [f[0] for f in fold[1:]]\n",
    "number_of_folders = len(all_folders)\n",
    "\n",
    "# Get all files\n",
    "all_files = [f[2] for f in fold[1:]]\n",
    "number_of_files = [len(f) for f in all_files]\n",
    "\n",
    "\n",
    "# Write the final fixation output file\n",
    "df_fixation = pd.DataFrame(columns=['FixStart', 'FixEnd', 'FixDur', 'XPos', 'YPos',\n",
    "                                    'FlankedByDataLoss', 'Fraction Interpolated', 'WeightCutoff', 'RMSxy', 'BCEA',\n",
    "                                    'FixRangeX', 'FixRangeY',\n",
    "                                    'Participant', 'Trial'])"
   ],
   "metadata": {
    "collapsed": false,
    "pycharm": {
     "name": "#%%\n"
    }
   }
  },
  {
   "cell_type": "markdown",
   "source": [
    "## Start The Algorithm"
   ],
   "metadata": {
    "collapsed": false,
    "pycharm": {
     "name": "#%% md\n"
    }
   }
  },
  {
   "cell_type": "code",
   "execution_count": 6,
   "outputs": [
    {
     "name": "stdout",
     "output_type": "stream",
     "text": [
      "Processing folder 1 of 2\n",
      "\tProcessing file 1 of 5\n",
      "\t\tLoading data...\n",
      "\t\tRunning fixation detection...\n",
      "\tSearching for valid interpolation windows\n",
      "\tReplace interpolation windows with Steffen interpolation\n",
      "\t2-Means clustering started for left eye signal\n",
      "\t2-Means clustering started for right eye signal\n",
      "\tDetermining fixations based on clustering weight mean for averaged signal and separate eyes + 2.00*std\n"
     ]
    },
    {
     "data": {
      "text/plain": "{'cutoff': 1.1112442967602945,\n 'start': array([  2, 119, 362, 438, 511, 606]),\n 'end': array([110, 349, 432, 506, 598, 649]),\n 'startT': <PandasArray>\n [6.685, 396.582, 1206.498, 1459.79, 1703.116, 2019.669]\n Length: 6, dtype: float64,\n 'endT': <PandasArray>\n [366.564, 1163.169, 1439.743, 1686.428, 1993.02, 2162.992]\n Length: 6, dtype: float64,\n 'dur': <PandasArray>\n [           363.234,  769.9430000000001, 236.60799999999995,\n  230.00099999999998,  293.2640000000001, 146.69199999999978]\n Length: 6, dtype: float64,\n 'xpos': array([ 945.936,  781.056, 1349.184, 1243.776, 1290.288, 1523.328]),\n 'ypos': array([486.216, 404.784, 416.664, 372.924, 383.562, 310.932]),\n 'flankdataloss': array([1., 0., 0., 0., 0., 0.]),\n 'fracinterped': array([0.06422018, 0.        , 0.        , 0.        , 0.        ,\n        0.        ]),\n 'RMSxy': array([0.2979522 , 0.23353838, 0.27712236, 0.26375615, 0.29016649,\n        0.22328756]),\n 'BCEA': array([0.23378073, 0.23248373, 0.24848927, 0.1613567 , 0.20377893,\n        0.2372086 ]),\n 'fixRangeX': array([0.41066299, 0.98738642, 0.66199772, 0.49593727, 0.64628929,\n        0.81010568]),\n 'fixRangeY': array([1.58921528, 1.03885955, 1.10576059, 0.94040142, 1.21936613,\n        0.92651629])}"
     },
     "metadata": {},
     "output_type": "display_data"
    }
   ],
   "source": [
    "for folder_idx, folder in enumerate(all_folders):\n",
    "    if logging:\n",
    "        print('Processing folder {} of {}'.format(folder_idx + 1, number_of_folders))\n",
    "\n",
    "    for file_idx, file in enumerate(all_files[folder_idx]):\n",
    "        if logging:\n",
    "            print('\\tProcessing file {} of {}'.format(file_idx + 1, number_of_files[folder_idx]))\n",
    "\n",
    "        # get the current file name\n",
    "        file_name = os.path.join(folder, file)\n",
    "        # load the data\n",
    "        if logging:\n",
    "            print('\\t\\tLoading data...')\n",
    "\n",
    "        df_eyetracking_data = pd.read_csv(file_name, sep='\\t', header=None)\n",
    "        # keep colum 7, 8, 13, 20, 21, 26, 27\n",
    "        df_eyetracking_data = df_eyetracking_data.iloc[:, [7, 8, 13, 20, 21, 26, 27]]\n",
    "        # set first row to be the column names of the dataframe\n",
    "        df_eyetracking_data.columns = df_eyetracking_data.iloc[0]\n",
    "        # remove the first row\n",
    "        df_eyetracking_data = df_eyetracking_data.iloc[1:]\n",
    "        # reset the index\n",
    "        df_eyetracking_data = df_eyetracking_data.reset_index(drop=True)\n",
    "        # update the columns to display coordinates in pixels\n",
    "        df_eyetracking_data[\"LGazePos2dx\"] = df_eyetracking_data[\"LGazePos2dx\"].astype(float) * opt['xres']\n",
    "        df_eyetracking_data[\"LGazePos2dy\"] = df_eyetracking_data[\"LGazePos2dy\"].astype(float) * opt['yres']\n",
    "        df_eyetracking_data[\"RGazePos2dx\"] = df_eyetracking_data[\"RGazePos2dx\"].astype(float) * opt['xres']\n",
    "        df_eyetracking_data[\"RGazePos2dy\"] = df_eyetracking_data[\"RGazePos2dy\"].astype(float) * opt['yres']\n",
    "        df_eyetracking_data[\"LValidity\"] = df_eyetracking_data[\"LValidity\"].astype(int)\n",
    "        df_eyetracking_data[\"RValidity\"] = df_eyetracking_data[\"RValidity\"].astype(int)\n",
    "\n",
    "        # sometimes we have weird peaks where one sample is (very) far outside the\n",
    "        # monitor. Here, count as missing any data that is more than one monitor\n",
    "        # distance outside the monitor.\n",
    "\n",
    "        df_eyetracking_data[\"l_miss_x\"] = df_eyetracking_data.apply(lambda row: row[\"LGazePos2dx\"] < -opt['xres'] or row['LGazePos2dx'] >= 2*opt[\"xres\"], axis=1)\n",
    "        df_eyetracking_data[\"l_miss_y\"] = df_eyetracking_data.apply(lambda row: row[\"LGazePos2dy\"] < -opt['yres'] or row['LGazePos2dy'] >= 2*opt[\"yres\"], axis=1)\n",
    "        df_eyetracking_data[\"r_miss_x\"] = df_eyetracking_data.apply(lambda row: row[\"RGazePos2dx\"] < -opt['xres'] or row['RGazePos2dx'] >= 2*opt[\"xres\"], axis=1)\n",
    "        df_eyetracking_data[\"r_miss_y\"] = df_eyetracking_data.apply(lambda row: row[\"RGazePos2dy\"] < -opt['yres'] or row['RGazePos2dy'] >= 2*opt[\"yres\"], axis=1)\n",
    "\n",
    "        df_eyetracking_data[\"l_miss\"] = df_eyetracking_data.apply(lambda row: row[\"l_miss_x\"] or row[\"l_miss_y\"] or row[\"LValidity\"] > 1, axis=1)\n",
    "        df_eyetracking_data[\"r_miss\"] = df_eyetracking_data.apply(lambda row: row[\"r_miss_x\"] or row[\"r_miss_y\"] or row[\"RValidity\"] > 1, axis=1)\n",
    "\n",
    "        df_eyetracking_data.loc[df_eyetracking_data[\"l_miss\"], \"LGazePos2dx\"] = opt[\"missingx\"]\n",
    "        df_eyetracking_data.loc[df_eyetracking_data[\"l_miss\"], \"LGazePos2dy\"] = opt[\"missingy\"]\n",
    "        df_eyetracking_data.loc[df_eyetracking_data[\"r_miss\"], \"RGazePos2dx\"] = opt[\"missingx\"]\n",
    "        df_eyetracking_data.loc[df_eyetracking_data[\"r_miss\"], \"RGazePos2dy\"] = opt[\"missingy\"]\n",
    "\n",
    "        # drop miss columns\n",
    "        df_eyetracking_data = df_eyetracking_data.drop(columns=[\"l_miss_x\", \"l_miss_y\", \"r_miss_x\", \"r_miss_y\", \"l_miss\", \"r_miss\"])\n",
    "\n",
    "        # rename columns\n",
    "        df_eyetracking_data.rename(columns={'LGazePos2dx': 'L_X', 'LGazePos2dy': 'L_Y', 'RGazePos2dx': 'R_X', 'RGazePos2dy': 'R_Y', 'RelTimestamp': 'time'}, inplace=True)\n",
    "\n",
    "        if len(df_eyetracking_data) == 0:\n",
    "            if logging:\n",
    "                print('\\t\\tNo data found in file {}'.format(file_name))\n",
    "            continue\n",
    "\n",
    "        # run fixation detection\n",
    "        if logging:\n",
    "            print('\\t\\tRunning fixation detection...')\n",
    "        #try:\n",
    "        fix, _, _ = I2MC_funcs.I2MC(df_eyetracking_data, opt)\n",
    "        display(fix)\n",
    "\n",
    "        for t in range(len(fix['start'])):\n",
    "            df_tmp = pd.DataFrame([[fix['startT'], fix['endT'], fix['dur'][t], fix['xpos'][t], fix['ypos'][t],\n",
    "                                    fix['flankdataloss'][t], fix['fracinterped'][t],\n",
    "                                    fix['cutoff'], fix['RMSxy'][t], fix['BCEA'][t],\n",
    "                                    fix['fixRangeX'][t], fix['fixRangeY'][t],\n",
    "                                    ]], columns=fix.columns)\n",
    "        #except Exception as e:\n",
    "        #    print('\\t\\tError in I2MC_funcs.I2MC():\\n{}'.format(e))\n",
    "\n",
    "\n",
    "        # append fix to the list of df_fixation\n",
    "        # df_fixation = df_fixation.append(fix)\n",
    "        break\n",
    "    break"
   ],
   "metadata": {
    "collapsed": false,
    "pycharm": {
     "name": "#%%\n"
    }
   }
  },
  {
   "cell_type": "code",
   "execution_count": 16,
   "outputs": [
    {
     "name": "stdout",
     "output_type": "stream",
     "text": [
      "[nan  2.  3.]\n"
     ]
    },
    {
     "name": "stderr",
     "output_type": "stream",
     "text": [
      "<ipython-input-16-1176ee31d5ef>:2: RuntimeWarning: Mean of empty slice\n",
      "  print(np.nanmean(a, axis=0))\n"
     ]
    }
   ],
   "source": [
    "a = np.vstack([np.array([np.nan, 2.0, 3.0]), np.array([np.nan, 2.0, np.nan])])\n",
    "print(np.nanmean(a, axis=0))"
   ],
   "metadata": {
    "collapsed": false,
    "pycharm": {
     "name": "#%%\n"
    }
   }
  },
  {
   "cell_type": "code",
   "execution_count": 13,
   "outputs": [
    {
     "name": "stdout",
     "output_type": "stream",
     "text": [
      "[[[nan nan]\n",
      "  [ 2.  2.]\n",
      "  [ 3. nan]]]\n"
     ]
    }
   ],
   "source": [
    "print(a)"
   ],
   "metadata": {
    "collapsed": false,
    "pycharm": {
     "name": "#%%\n"
    }
   }
  },
  {
   "cell_type": "code",
   "execution_count": null,
   "outputs": [],
   "source": [],
   "metadata": {
    "collapsed": false,
    "pycharm": {
     "name": "#%%\n"
    }
   }
  }
 ],
 "metadata": {
  "kernelspec": {
   "display_name": "Python 3",
   "language": "python",
   "name": "python3"
  },
  "language_info": {
   "codemirror_mode": {
    "name": "ipython",
    "version": 2
   },
   "file_extension": ".py",
   "mimetype": "text/x-python",
   "name": "python",
   "nbconvert_exporter": "python",
   "pygments_lexer": "ipython2",
   "version": "2.7.6"
  }
 },
 "nbformat": 4,
 "nbformat_minor": 0
}